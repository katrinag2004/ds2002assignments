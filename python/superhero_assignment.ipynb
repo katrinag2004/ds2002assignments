{
  "cells": [
    {
      "cell_type": "markdown",
      "metadata": {
        "id": "view-in-github",
        "colab_type": "text"
      },
      "source": [
        "<a href=\"https://colab.research.google.com/github/katrinag2004/ds2002assignments/blob/main/python/superhero_assignment.ipynb\" target=\"_parent\"><img src=\"https://colab.research.google.com/assets/colab-badge.svg\" alt=\"Open In Colab\"/></a>"
      ]
    },
    {
      "cell_type": "markdown",
      "id": "5fa8dcf6",
      "metadata": {
        "id": "5fa8dcf6"
      },
      "source": []
    },
    {
      "cell_type": "markdown",
      "id": "5535e625",
      "metadata": {
        "id": "5535e625"
      },
      "source": [
        "## Step 1: Setting Up Your SQLite Database\n",
        "\n",
        "### Tasks:\n",
        "1. Initialize SQLite in Google Colab.\n",
        "2. Create a database named `superhero_db.sqlite`.\n",
        "3. Define the database schema, ensuring it includes the following tables:\n",
        "   - `heroes`: Stores superhero names, powers, and teams.\n",
        "   - `villains`: Stores villains and their evil plans.\n",
        "   - `battles`: Tracks battles between heroes and villains, including the outcome.\n",
        "4. Implement primary keys and foreign keys where appropriate.\n",
        "\n",
        "✅ **Checkpoint:** Ensure that the database and tables have been successfully created."
      ]
    },
    {
      "cell_type": "code",
      "source": [
        "import sqlite3\n",
        "connection = sqlite3.connect('superhero_db.sqlite')\n",
        "print(\"Database created and connected!\")\n",
        "cursor = connection.cursor()\n",
        "print(\"Cursor created!\")\n",
        "cursor.execute('''\n",
        "CREATE TABLE IF NOT EXISTS heroes (\n",
        "    hero_id INTEGER PRIMARY KEY AUTOINCREMENT,\n",
        "    name TEXT NOT NULL,\n",
        "    power TEXT,\n",
        "    team TEXT\n",
        ")\n",
        "''')\n",
        "\n",
        "cursor.execute('''\n",
        "CREATE TABLE IF NOT EXISTS villains (\n",
        "    villain_id INTEGER PRIMARY KEY AUTOINCREMENT,\n",
        "    names TEXT NOT NULL,\n",
        "    evil_plan TEXT\n",
        ")\n",
        "''')\n",
        "\n",
        "cursor.execute('''\n",
        "CREATE TABLE IF NOT EXISTS battles (\n",
        "    battle_id INTEGER PRIMARY KEY AUTOINCREMENT,\n",
        "    hero_id INTEGER,\n",
        "    villain_id INTEGER,\n",
        "    outcome TEXT,\n",
        "    FOREIGN KEY (hero_id) REFERENCES heroes(hero_id),\n",
        "    FOREIGN KEY (villain_id) REFERENCES villains(villain_id)\n",
        ")\n",
        "''')\n",
        "connection.commit()\n",
        "print(\"Battles table recreated successfully!\")\n",
        "\n",
        "# Close the cursor\n",
        "cursor.close()\n",
        "\n",
        "# Explanation\n",
        "print(\"Cursor closed!\")\n"
      ],
      "metadata": {
        "id": "CWzi66qw2HlI",
        "outputId": "7210fdda-62aa-41c3-ab4e-c1d59f4861dd",
        "colab": {
          "base_uri": "https://localhost:8080/"
        }
      },
      "id": "CWzi66qw2HlI",
      "execution_count": 68,
      "outputs": [
        {
          "output_type": "stream",
          "name": "stdout",
          "text": [
            "Database created and connected!\n",
            "Cursor created!\n",
            "Battles table recreated successfully!\n",
            "Cursor closed!\n"
          ]
        }
      ]
    },
    {
      "cell_type": "markdown",
      "id": "154b3c3a",
      "metadata": {
        "id": "154b3c3a"
      },
      "source": [
        "## Step 2: Import Data from CSV Files\n",
        "\n",
        "### Tasks:\n",
        "1. Download the provided CSV files.\n",
        "2. Upload them to Google Colab.\n",
        "3. Write a script to import data from these files into the appropriate tables.\n",
        "4. Verify that the data has been successfully inserted.\n",
        "\n",
        "✅ **Checkpoint:** Ensure that each table contains the expected data from the CSV files."
      ]
    },
    {
      "cell_type": "code",
      "source": [
        "import pandas as pd\n",
        "\n",
        "# Load data from CSV into a DataFrame\n",
        "df_heroes = pd.read_csv('heroes.csv')\n",
        "\n",
        "# Display the first few rows of the DataFrame\n",
        "print(df_heroes.head())\n",
        "df_heroes.to_sql('heroes', connection, if_exists='replace', index=False)\n",
        "\n",
        "print(\"Data from CSV has been inserted into the heroes table.\")\n",
        "\n",
        "\n",
        "# Load data from CSV into a DataFrame\n",
        "df_villains = pd.read_csv('villains.csv')\n",
        "\n",
        "# Display the first few rows of the DataFrame\n",
        "print(df_villains.head())\n",
        "df_villains.to_sql('villains', connection, if_exists='replace', index=False)\n",
        "\n",
        "print(\"Data from CSV has been inserted into the villains table.\")\n",
        "\n",
        "# Load data from CSV into a DataFrame\n",
        "df_battles = pd.read_csv('battles.csv')\n",
        "\n",
        "# Display the first few rows of the DataFrame\n",
        "print(df_battles.head())\n",
        "df_battles.to_sql('battles', connection, if_exists='replace', index=False)\n",
        "\n",
        "print(\"Data from CSV has been inserted into the battles table.\")\n",
        "\n"
      ],
      "metadata": {
        "id": "TcOwzKGr7dfi",
        "outputId": "077ca51c-1638-45f0-c7f6-9f7774e4e5ef",
        "colab": {
          "base_uri": "https://localhost:8080/"
        }
      },
      "id": "TcOwzKGr7dfi",
      "execution_count": 64,
      "outputs": [
        {
          "output_type": "stream",
          "name": "stdout",
          "text": [
            "   id        name             power            team\n",
            "0   1  Spider-Man      Web-slinging        Avengers\n",
            "1   2    Iron Man     Powered Armor        Avengers\n",
            "2   3      Batman  Genius Detective  Justice League\n",
            "3   4    Superman    Super Strength  Justice League\n",
            "4   5        Thor    God of Thunder        Avengers\n",
            "Data from CSV has been inserted into the heroes table.\n",
            "   id          name                           evil_plan\n",
            "0   1  Green Goblin                  Terrorize New York\n",
            "1   2        Thanos         Collect all Infinity Stones\n",
            "2   3         Joker              Spread chaos in Gotham\n",
            "3   4    Lex Luthor                     Defeat Superman\n",
            "4   5          Loki  Trick humanity into worshiping him\n",
            "Data from CSV has been inserted into the villains table.\n",
            "   id  hero_id  villain_id       outcome\n",
            "0   1        1          10  Villain Wins\n",
            "1   2        9           3     Hero Wins\n",
            "2   3        8           1          Draw\n",
            "3   4        5           4  Villain Wins\n",
            "4   5        1           7     Hero Wins\n",
            "Data from CSV has been inserted into the battles table.\n"
          ]
        }
      ]
    },
    {
      "cell_type": "markdown",
      "id": "33548d9f",
      "metadata": {
        "id": "33548d9f"
      },
      "source": [
        "## Step 3: Querying the Database\n",
        "\n",
        "### Tasks:\n",
        "Write SQL queries to answer the following:\n",
        "1. Retrieve all superheroes and their powers.\n",
        "2. Find all battles where the hero won.\n",
        "3. List all villains and their evil plans.\n",
        "4. Determine which superhero has fought the most battles.\n",
        "\n",
        "✅ **Checkpoint:** Ensure that all queries return meaningful results from the database."
      ]
    },
    {
      "cell_type": "code",
      "source": [
        "cursor = connection.cursor()\n",
        "cursor.execute(\"\"\"\n",
        "    SELECT name, power\n",
        "    FROM heroes;\n",
        "\"\"\")\n",
        "rows = cursor.fetchall()\n",
        "print(\"Superheroes and their powers:\")\n",
        "for row in rows:\n",
        "    print(row)\n",
        "\n",
        "cursor.execute(\"\"\"\n",
        "    SELECT b.id, h.name AS hero_name, v.name AS villain_name, b.outcome\n",
        "    FROM battles b\n",
        "    JOIN heroes h ON b.hero_id = h.id\n",
        "    JOIN villains v ON b.villain_id = v.id\n",
        "    WHERE b.outcome = 'Hero Wins';\n",
        "\"\"\")\n",
        "rows = cursor.fetchall()\n",
        "print(\"Battles where the hero won:\")\n",
        "for row in rows:\n",
        "    print(row)\n",
        "cursor.execute(\"\"\"\n",
        "    SELECT h.name AS hero_name, COUNT(b.id) AS battle_count\n",
        "    FROM battles b\n",
        "    JOIN heroes h ON b.hero_id = h.id\n",
        "    GROUP BY h.name\n",
        "    ORDER BY battle_count DESC\n",
        "    LIMIT 1;\n",
        "\"\"\")\n",
        "rows = cursor.fetchall()\n",
        "print(\"Superhero with the most battles:\")\n",
        "for row in rows:\n",
        "    print(row)\n",
        "connection.commit()\n",
        "\n",
        "\n"
      ],
      "metadata": {
        "id": "USZ8KEyo7c5D",
        "outputId": "5de6b365-d167-4ba4-9f0c-8c14433bf19b",
        "colab": {
          "base_uri": "https://localhost:8080/"
        }
      },
      "id": "USZ8KEyo7c5D",
      "execution_count": 74,
      "outputs": [
        {
          "output_type": "stream",
          "name": "stdout",
          "text": [
            "Superheroes and their powers:\n",
            "('Spider-Man', 'Web-slinging')\n",
            "('Iron Man', 'Powered Armor')\n",
            "('Batman', 'Genius Detective')\n",
            "('Superman', 'Super Strength')\n",
            "('Thor', 'God of Thunder')\n",
            "('Wonder Woman', 'Amazonian Strength')\n",
            "('Black Panther', 'Enhanced Agility')\n",
            "('The Flash', 'Super Speed')\n",
            "('Hulk', 'Super Strength')\n",
            "('Doctor Strange', 'Mystic Arts')\n",
            "Battles where the hero won:\n",
            "(2, 'Hulk', 'Joker', 'Hero Wins')\n",
            "(5, 'Spider-Man', 'Darkseid', 'Hero Wins')\n",
            "(7, 'Hulk', 'Venom', 'Hero Wins')\n",
            "(8, 'Batman', 'Thanos', 'Hero Wins')\n",
            "(9, 'Black Panther', 'Loki', 'Hero Wins')\n",
            "(13, 'The Flash', 'Magneto', 'Hero Wins')\n",
            "(20, 'Batman', 'Lex Luthor', 'Hero Wins')\n",
            "(29, 'Batman', 'Loki', 'Hero Wins')\n",
            "(30, 'Thor', 'Loki', 'Hero Wins')\n",
            "Superhero with the most battles:\n",
            "('Batman', 7)\n"
          ]
        }
      ]
    },
    {
      "cell_type": "markdown",
      "id": "de8bda94",
      "metadata": {
        "id": "de8bda94"
      },
      "source": [
        "## Step 4: Add a Custom Feature\n",
        "\n",
        "### Tasks:\n",
        "1. Design and implement an additional table related to superheroes or villains.\n",
        "2. Populate it with data.\n",
        "3. Write at least one query to retrieve meaningful insights from the new table.\n",
        "\n",
        "**Examples of Custom Features:**\n",
        "- Sidekicks for superheroes\n",
        "- Villain hideouts\n",
        "- Battle locations\n",
        "- Superhero equipment\n",
        "\n",
        "✅ **Checkpoint:** Ensure that the new table and queries function correctly."
      ]
    },
    {
      "cell_type": "markdown",
      "id": "9bf43fe6",
      "metadata": {
        "id": "9bf43fe6"
      },
      "source": [
        "## Bonus Challenge (+5 Points)\n",
        "\n",
        "### Tasks:\n",
        "1. Enhance your project by adding a visual or interactive component.\n",
        "\n",
        "**Options:**\n",
        "- Visualize battles using Matplotlib (e.g., a bar chart showing how many battles each superhero has fought).\n",
        "- Make it interactive (e.g., allow users to input a superhero name and display their battles).\n",
        "\n",
        "✅ **Checkpoint:** If attempting the bonus, ensure that your visualization or interactive component works correctly."
      ]
    },
    {
      "cell_type": "markdown",
      "id": "89f56c05",
      "metadata": {
        "id": "89f56c05"
      },
      "source": [
        "## Submission Guidelines\n",
        "\n",
        "Each group must submit a **Google Colab Notebook (.ipynb)** containing:\n",
        "- ✅ **Database schema (DDL)**\n",
        "- ✅ **CSV imports & data insertion (DML)**\n",
        "- ✅ **SQL queries & results**\n",
        "- ✅ **Custom feature (bonus if applicable)**"
      ]
    },
    {
      "cell_type": "markdown",
      "id": "61477c9b",
      "metadata": {
        "id": "61477c9b"
      },
      "source": [
        "## Grading Criteria (Total: 25 Points)\n",
        "\n",
        "| Section                 | Points |\n",
        "|-------------------------|--------|\n",
        "| Database Setup          | 5      |\n",
        "| Data Importing         | 10     |\n",
        "| Querying the Data      | 10     |\n",
        "| Extra Feature          | 5      |\n",
        "| Bonus Challenge (Optional) | +5  |"
      ]
    },
    {
      "cell_type": "markdown",
      "id": "92bf6839",
      "metadata": {
        "id": "92bf6839"
      },
      "source": [
        "### Final Notes:\n",
        "- Be **creative** when designing superheroes and villains.\n",
        "- **Comment your code** to explain its functionality.\n",
        "- **Have fun** building your superhero universe!"
      ]
    }
  ],
  "metadata": {
    "colab": {
      "provenance": [],
      "include_colab_link": true
    },
    "language_info": {
      "name": "python"
    },
    "kernelspec": {
      "name": "python3",
      "display_name": "Python 3"
    }
  },
  "nbformat": 4,
  "nbformat_minor": 5
}